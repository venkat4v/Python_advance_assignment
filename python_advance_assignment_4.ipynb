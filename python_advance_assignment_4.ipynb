{
 "cells": [
  {
   "cell_type": "code",
   "execution_count": null,
   "id": "9942be82",
   "metadata": {},
   "outputs": [],
   "source": [
    "'''1. In mathematics, the Fibonacci numbers, \n",
    "commonly denoted Fn, form a sequence, called the Fibonacci sequence, \n",
    "such that each number is the sum of the two preceding ones, starting from 0 and 1:\n",
    "\n",
    "\n",
    "The beginning of the sequence is this:\n",
    "\n",
    "0, 1, 1, 2, 3, 5, 8, 13, 21, 34, 55, 89, 144, ...\n",
    "\n",
    "The function fastFib(num) returns the fibonacci number Fn, of the given num as an argument.\n",
    "\n",
    "Examples\n",
    "\n",
    "fib_fast(5) ➞ 5\n",
    "\n",
    "fib_fast(10) ➞ 55\n",
    "\n",
    "fib_fast(20) ➞ 6765\n",
    "\n",
    "fib_fast(50) ➞ 12586269025\n",
    "'''"
   ]
  },
  {
   "cell_type": "code",
   "execution_count": 68,
   "id": "b8454225",
   "metadata": {},
   "outputs": [],
   "source": [
    "def fib_fast(n):\n",
    "    try:\n",
    "        n1=0\n",
    "        n2=1\n",
    "        i=0\n",
    "        while i < n-1:\n",
    "            #print(i)\n",
    "            n3=n1+n2\n",
    "            n1=n2\n",
    "            n2=n3\n",
    "            i=i+1\n",
    "        return n3\n",
    "    except Exception as e:\n",
    "        print('There is some problem with this set of code',e)        "
   ]
  },
  {
   "cell_type": "code",
   "execution_count": 69,
   "id": "c15fcf78",
   "metadata": {},
   "outputs": [
    {
     "data": {
      "text/plain": [
       "55"
      ]
     },
     "execution_count": 69,
     "metadata": {},
     "output_type": "execute_result"
    }
   ],
   "source": [
    "fib_fast(10) #➞ 55"
   ]
  },
  {
   "cell_type": "code",
   "execution_count": 70,
   "id": "36fa181d",
   "metadata": {},
   "outputs": [
    {
     "data": {
      "text/plain": [
       "6765"
      ]
     },
     "execution_count": 70,
     "metadata": {},
     "output_type": "execute_result"
    }
   ],
   "source": [
    "fib_fast(20) #➞ 6765"
   ]
  },
  {
   "cell_type": "code",
   "execution_count": 71,
   "id": "f592be06",
   "metadata": {},
   "outputs": [
    {
     "data": {
      "text/plain": [
       "12586269025"
      ]
     },
     "execution_count": 71,
     "metadata": {},
     "output_type": "execute_result"
    }
   ],
   "source": [
    "fib_fast(50) #➞ 12586269025\n"
   ]
  },
  {
   "cell_type": "code",
   "execution_count": null,
   "id": "921dbf53",
   "metadata": {},
   "outputs": [],
   "source": [
    "'''\n",
    "2. Create a function that takes a strings characters as ASCII and \n",
    "returns each characters hexadecimal value as a string.\n",
    "\n",
    "Examples\n",
    "\n",
    "convert_to_hex(\"hello world\") ➞ \"68 65 6c 6c 6f 20 77 6f 72 6c 64\"\n",
    "\n",
    "convert_to_hex(\"Big Boi\") ➞ \"42 69 67 20 42 6f 69\"\n",
    "\n",
    "convert_to_hex(\"Marty Poppinson\") ➞ \"4d 61 72 74 79 20 50 6f 70 70 69 6e 73 6f 6e\"\n",
    "\n",
    "'''"
   ]
  },
  {
   "cell_type": "code",
   "execution_count": 137,
   "id": "c09f9814",
   "metadata": {},
   "outputs": [],
   "source": [
    "def convert_to_hex(s):\n",
    "    #print(s)\n",
    "    s1=''\n",
    "    a=0\n",
    "    b=0\n",
    "    b1=0\n",
    "    try:\n",
    "        for i in range(len(s)):\n",
    "            a=ord(s[i])# to get ascii character\n",
    "            #print(a)\n",
    "            b=hex(a)# to get hexadecimal value\n",
    "            #print(b)\n",
    "            b1=b[2:]\n",
    "            #print(b1)\n",
    "            s1+=b1\n",
    "            s1+=' '\n",
    "        return s1\n",
    "    except Exception as e:\n",
    "        print('There is some problem with this set of code',e)   "
   ]
  },
  {
   "cell_type": "code",
   "execution_count": 138,
   "id": "60e0ed90",
   "metadata": {},
   "outputs": [
    {
     "data": {
      "text/plain": [
       "'68 65 6c 6c 6f 20 77 6f 72 6c 64 '"
      ]
     },
     "execution_count": 138,
     "metadata": {},
     "output_type": "execute_result"
    }
   ],
   "source": [
    "convert_to_hex(\"hello world\") #➞ \n",
    "\"68 65 6c 6c 6f 20 77 6f 72 6c 64\""
   ]
  },
  {
   "cell_type": "code",
   "execution_count": 139,
   "id": "2a704755",
   "metadata": {},
   "outputs": [
    {
     "data": {
      "text/plain": [
       "'42 69 67 20 42 6f 69'"
      ]
     },
     "execution_count": 139,
     "metadata": {},
     "output_type": "execute_result"
    }
   ],
   "source": [
    "convert_to_hex(\"Big Boi\") #➞ \n",
    "\"42 69 67 20 42 6f 69\""
   ]
  },
  {
   "cell_type": "code",
   "execution_count": 141,
   "id": "61820668",
   "metadata": {},
   "outputs": [
    {
     "data": {
      "text/plain": [
       "'4d 61 72 74 79 20 50 6f 70 70 69 6e 73 6f 6e'"
      ]
     },
     "execution_count": 141,
     "metadata": {},
     "output_type": "execute_result"
    }
   ],
   "source": [
    "convert_to_hex(\"Marty Poppinson\") #➞ \n",
    "\"4d 61 72 74 79 20 50 6f 70 70 69 6e 73 6f 6e\""
   ]
  },
  {
   "cell_type": "code",
   "execution_count": null,
   "id": "669dc510",
   "metadata": {},
   "outputs": [],
   "source": [
    "'''\n",
    "3. Someone has attempted to censor my strings by replacing every vowel with a *, l*k* th*s. \n",
    "Luckily, I've been able to find the vowels that were removed.\n",
    "\n",
    "Given a censored string and a string of the censored vowels, return the original uncensored string.\n",
    "\n",
    "Example\n",
    "\n",
    "uncensor(\"Wh*r* d*d my v*w*ls g*?\", \"eeioeo\") ➞ \"Where did my vowels go?\"\n",
    "\n",
    "uncensor(\"abcd\", \"\") ➞ \"abcd\"\n",
    "\n",
    "uncensor(\"*PP*RC*S*\", \"UEAE\") ➞ \"UPPERCASE\"\n",
    "\n",
    "'''"
   ]
  },
  {
   "cell_type": "code",
   "execution_count": 98,
   "id": "eed8b782",
   "metadata": {},
   "outputs": [],
   "source": [
    "def uncensor(s,s1):\n",
    "    #print(s)\n",
    "    #print(s1)\n",
    "    l=\"\"\n",
    "    j=0\n",
    "    try:\n",
    "        for i in range(len(s)):\n",
    "            if s[i]=='*':\n",
    "                l+=s1[j]\n",
    "                j=j+1\n",
    "            else:\n",
    "                l+=s[i]\n",
    "        return l\n",
    "    except Exception as e:\n",
    "        print('There is some problem with this type of code',e)    "
   ]
  },
  {
   "cell_type": "code",
   "execution_count": 99,
   "id": "1c053bde",
   "metadata": {},
   "outputs": [
    {
     "data": {
      "text/plain": [
       "'Where did my vowels go?'"
      ]
     },
     "execution_count": 99,
     "metadata": {},
     "output_type": "execute_result"
    }
   ],
   "source": [
    "uncensor(\"Wh*r* d*d my v*w*ls g*?\", \"eeioeo\") #➞ \"Where did my vowels go?\""
   ]
  },
  {
   "cell_type": "code",
   "execution_count": 100,
   "id": "19382fc0",
   "metadata": {},
   "outputs": [
    {
     "data": {
      "text/plain": [
       "'abcd'"
      ]
     },
     "execution_count": 100,
     "metadata": {},
     "output_type": "execute_result"
    }
   ],
   "source": [
    "uncensor(\"abcd\", \"\") #➞ \"abcd\""
   ]
  },
  {
   "cell_type": "code",
   "execution_count": 102,
   "id": "0dbe50ce",
   "metadata": {},
   "outputs": [
    {
     "data": {
      "text/plain": [
       "'UPPERCASE'"
      ]
     },
     "execution_count": 102,
     "metadata": {},
     "output_type": "execute_result"
    }
   ],
   "source": [
    "uncensor(\"*PP*RC*S*\", \"UEAE\") #➞ \"UPPERCASE\""
   ]
  },
  {
   "cell_type": "code",
   "execution_count": null,
   "id": "1f55e220",
   "metadata": {},
   "outputs": [],
   "source": [
    "'''\n",
    "4. Write a function that takes an IP address and returns the domain name using PTR DNS records.\n",
    "\n",
    "Example\n",
    "\n",
    "get_domain(\"8.8.8.8\") ➞ \"dns.google\"\n",
    "\n",
    "get_domain(\"8.8.4.4\") ➞ \"dns.google\"\n",
    "\n",
    "'''"
   ]
  },
  {
   "cell_type": "code",
   "execution_count": 183,
   "id": "349b6d1b",
   "metadata": {},
   "outputs": [],
   "source": [
    "def get_domain(s):\n",
    "    #print(list(s))\n",
    "    #print(s)\n",
    "    s1=[]\n",
    "    s1.append(s)\n",
    "    #print(s1)\n",
    "    import socket# used for getting ip address\n",
    "    try:\n",
    "        if s1 in socket.gethostbyaddr(s):\n",
    "            return socket.gethostbyaddr(s)[0]\n",
    "        else:\n",
    "            print('The host name doesnot exists please look into it')    \n",
    "    except Exception as e:\n",
    "        print('The issue with this set of code is::',e)"
   ]
  },
  {
   "cell_type": "code",
   "execution_count": 186,
   "id": "4aaed2ae",
   "metadata": {},
   "outputs": [
    {
     "data": {
      "text/plain": [
       "'dns.google'"
      ]
     },
     "execution_count": 186,
     "metadata": {},
     "output_type": "execute_result"
    }
   ],
   "source": [
    "get_domain(\"8.8.8.8\") #➞\n",
    "\"dns.google\""
   ]
  },
  {
   "cell_type": "code",
   "execution_count": 187,
   "id": "f4cc2c71",
   "metadata": {},
   "outputs": [
    {
     "data": {
      "text/plain": [
       "'dns.google'"
      ]
     },
     "execution_count": 187,
     "metadata": {},
     "output_type": "execute_result"
    }
   ],
   "source": [
    "get_domain(\"8.8.4.4\") #➞\n",
    "\"dns.google\""
   ]
  },
  {
   "cell_type": "code",
   "execution_count": null,
   "id": "bd4a73e7",
   "metadata": {},
   "outputs": [],
   "source": [
    "'''\n",
    "5. Create a function that takes an integer n and\n",
    "returns the factorial of factorials. See below examples for a better understanding:\n",
    "\n",
    "Examples\n",
    "\n",
    "fact_of_fact(4) ➞ 288\n",
    "# 4! * 3! * 2! * 1! = 288\n",
    "\n",
    "fact_of_fact(5) ➞ 34560\n",
    "\n",
    "fact_of_fact(6) ➞ 24883200\n",
    "\n",
    "'''"
   ]
  },
  {
   "cell_type": "code",
   "execution_count": 75,
   "id": "12b54ea6",
   "metadata": {},
   "outputs": [],
   "source": [
    "def factorial(n):\n",
    "    try:\n",
    "        result=1\n",
    "        while n>1:\n",
    "            result*=n\n",
    "            n=n-1\n",
    "        return result\n",
    "    except Exception as e:\n",
    "        print('The issue with this set of code is::',e)\n",
    "\n",
    "def fact_of_fact(n1):\n",
    "    try:\n",
    "        result1=1\n",
    "        if n1>1:\n",
    "            for i in range(n1):\n",
    "                result1*=factorial(i+1)\n",
    "        return result1\n",
    "    except Exception as e:\n",
    "        print('The issue with this set of code is::',e)"
   ]
  },
  {
   "cell_type": "code",
   "execution_count": 76,
   "id": "b16ee26a",
   "metadata": {},
   "outputs": [
    {
     "data": {
      "text/plain": [
       "288"
      ]
     },
     "execution_count": 76,
     "metadata": {},
     "output_type": "execute_result"
    }
   ],
   "source": [
    "fact_of_fact(4) #➞ 288\n"
   ]
  },
  {
   "cell_type": "code",
   "execution_count": 77,
   "id": "2c46bc58",
   "metadata": {},
   "outputs": [
    {
     "data": {
      "text/plain": [
       "34560"
      ]
     },
     "execution_count": 77,
     "metadata": {},
     "output_type": "execute_result"
    }
   ],
   "source": [
    "fact_of_fact(5) #➞ 34560"
   ]
  },
  {
   "cell_type": "code",
   "execution_count": 78,
   "id": "48b2f05f",
   "metadata": {},
   "outputs": [
    {
     "data": {
      "text/plain": [
       "24883200"
      ]
     },
     "execution_count": 78,
     "metadata": {},
     "output_type": "execute_result"
    }
   ],
   "source": [
    "fact_of_fact(6) #➞ 24883200"
   ]
  }
 ],
 "metadata": {
  "kernelspec": {
   "display_name": "Python 3 (ipykernel)",
   "language": "python",
   "name": "python3"
  },
  "language_info": {
   "codemirror_mode": {
    "name": "ipython",
    "version": 3
   },
   "file_extension": ".py",
   "mimetype": "text/x-python",
   "name": "python",
   "nbconvert_exporter": "python",
   "pygments_lexer": "ipython3",
   "version": "3.9.7"
  }
 },
 "nbformat": 4,
 "nbformat_minor": 5
}
