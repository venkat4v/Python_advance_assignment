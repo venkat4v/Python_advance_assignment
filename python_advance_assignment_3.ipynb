{
 "cells": [
  {
   "cell_type": "code",
   "execution_count": null,
   "id": "d4c37500",
   "metadata": {},
   "outputs": [],
   "source": [
    "'''\n",
    "1. Create a function to perform basic arithmetic operations that \n",
    "includes addition, subtraction, multiplication and \n",
    "division on a string number (e.g. \"12 + 24\" or \"23 - 21\" or \"12 // 12\" or \"12 * 21\").\n",
    "\n",
    "Here, we have 1 followed by a space, operator followed by another space and 2. \n",
    "For the challenge, we are going to have only two numbers between 1 valid operator. \n",
    "The return value should be a number.\n",
    "\n",
    "eval() is not allowed. In case of division, whenever the second number equals \"0\" return -1.\n",
    "\n",
    "For example:\n",
    "\n",
    "\"15 // 0\"  ➞ -1\n",
    "\n",
    "Examples\n",
    "\n",
    "arithmetic_operation(\"12 + 12\") ➞ 24 // 12 + 12 = 24\n",
    "\n",
    "arithmetic_operation(\"12 - 12\") ➞ 24 // 12 - 12 = 0\n",
    "\n",
    "arithmetic_operation(\"12 * 12\") ➞ 144 // 12 * 12 = 144\n",
    "\n",
    "arithmetic_operation(\"12 // 0\") ➞ -1 // 12 / 0 = -1\n",
    "\n",
    "\n",
    "'''"
   ]
  },
  {
   "cell_type": "code",
   "execution_count": 81,
   "id": "f245cd3f",
   "metadata": {},
   "outputs": [],
   "source": [
    "def arithmetic_operation(st):\n",
    "    l=[]\n",
    "    result=[]\n",
    "    z=['+','-','*','//']\n",
    "    result1=0\n",
    "    try:\n",
    "        l=st.split()\n",
    "        if l[-1]=='0' and l[-2]=='//':\n",
    "            print('Division operation cannot be performed')\n",
    "            return -1\n",
    "        else:\n",
    "            for i in range(len(l)):\n",
    "                if l[i] in z:\n",
    "                    b1=l[i]\n",
    "                else:\n",
    "                    result.append(int(l[i]))\n",
    "            result1=operations(b1,result)\n",
    "            return result1\n",
    "                \n",
    "    except Exception as e:\n",
    "        print('There is some problem with this set of code',e)\n",
    "\n",
    "        \n",
    "def operations(str1,a1):\n",
    "    try:\n",
    "        #rint(str1)\n",
    "        #print(a1)\n",
    "        if len(a1)==2:\n",
    "            a=a1[0]\n",
    "            b=a1[1]\n",
    "            #print(a)\n",
    "            #print(b)\n",
    "            if str1=='+':\n",
    "                return (a + b)\n",
    "            elif str1=='-':\n",
    "                return (a-b)\n",
    "            elif str1=='*':\n",
    "                return (a*b)\n",
    "            elif str1=='//':\n",
    "                return (a//b)\n",
    "            else:\n",
    "                print('Given operation cannot be performed',e)\n",
    "        else:\n",
    "            print('There is some error in sending input parameters')\n",
    "    except Exception as e:\n",
    "        print('There is some problems with this type of code',e)"
   ]
  },
  {
   "cell_type": "code",
   "execution_count": 82,
   "id": "0168a508",
   "metadata": {},
   "outputs": [
    {
     "data": {
      "text/plain": [
       "24"
      ]
     },
     "execution_count": 82,
     "metadata": {},
     "output_type": "execute_result"
    }
   ],
   "source": [
    "arithmetic_operation(\"12 + 12\") "
   ]
  },
  {
   "cell_type": "code",
   "execution_count": 83,
   "id": "3cca3c4a",
   "metadata": {},
   "outputs": [
    {
     "data": {
      "text/plain": [
       "0"
      ]
     },
     "execution_count": 83,
     "metadata": {},
     "output_type": "execute_result"
    }
   ],
   "source": [
    "arithmetic_operation(\"12 - 12\")"
   ]
  },
  {
   "cell_type": "code",
   "execution_count": 84,
   "id": "1b99a665",
   "metadata": {},
   "outputs": [
    {
     "data": {
      "text/plain": [
       "144"
      ]
     },
     "execution_count": 84,
     "metadata": {},
     "output_type": "execute_result"
    }
   ],
   "source": [
    "arithmetic_operation(\"12 * 12\")"
   ]
  },
  {
   "cell_type": "code",
   "execution_count": 85,
   "id": "b5125921",
   "metadata": {},
   "outputs": [
    {
     "name": "stdout",
     "output_type": "stream",
     "text": [
      "Division operation cannot be performed\n"
     ]
    },
    {
     "data": {
      "text/plain": [
       "-1"
      ]
     },
     "execution_count": 85,
     "metadata": {},
     "output_type": "execute_result"
    }
   ],
   "source": [
    "arithmetic_operation(\"12 // 0\") "
   ]
  },
  {
   "cell_type": "code",
   "execution_count": null,
   "id": "b4e5dec5",
   "metadata": {},
   "outputs": [],
   "source": [
    "'''\n",
    "2. Write a function that takes the coordinates of three points in the form of a 2d array \n",
    "and returns the perimeter of the triangle. \n",
    "The given points are the vertices of a triangle on a two-dimensional plane.\n",
    "\n",
    "Examples\n",
    "\n",
    "perimeter( [ [15, 7], [5, 22], [11, 1] ] ) ➞ 47.08\n",
    "\n",
    "perimeter( [ [0, 0], [0, 1], [1, 0] ] ) ➞ 3.42\n",
    "\n",
    "perimeter( [ [-10, -10], [10, 10 ], [-10, 10] ] ) ➞ 68.28\n",
    "\n",
    "'''"
   ]
  },
  {
   "cell_type": "code",
   "execution_count": 86,
   "id": "dc5d659a",
   "metadata": {},
   "outputs": [],
   "source": [
    "def perimeter(*args):\n",
    "    try:  \n",
    "        if len(args[0]) >3:\n",
    "            print('Traingle has only 3 coordinates (or) input format is wrong!!!')\n",
    "        else:\n",
    "            x1=args[0][0]\n",
    "            y1=args[0][1]\n",
    "            z1=args[0][2]\n",
    "            a=distance(x1,y1)\n",
    "            b=distance(y1,z1)\n",
    "            c=distance(x1,z1)\n",
    "            #print(a)\n",
    "            #print(b)\n",
    "            #print(c)\n",
    "            result=a+b+c\n",
    "            return round(result,2)\n",
    "    except Exception as e:\n",
    "        print('There is some problem with this set of code',e)\n",
    "        \n",
    "        \n",
    "\n",
    "def distance(l,m):\n",
    "    try:  \n",
    "        x=int(l[0])-int(m[0])\n",
    "        y=int(l[1])-int(m[1])\n",
    "        result=(x**2 + y**2)**(1/2)\n",
    "        return result\n",
    "    except Exception as e:\n",
    "        print('There is some problem with this set of code',e)"
   ]
  },
  {
   "cell_type": "code",
   "execution_count": 87,
   "id": "10cd6668",
   "metadata": {},
   "outputs": [
    {
     "data": {
      "text/plain": [
       "47.08"
      ]
     },
     "execution_count": 87,
     "metadata": {},
     "output_type": "execute_result"
    }
   ],
   "source": [
    "perimeter( [ [15, 7], [5, 22], [11, 1]] )\n",
    "#➞ 47.08"
   ]
  },
  {
   "cell_type": "code",
   "execution_count": 88,
   "id": "70726d97",
   "metadata": {},
   "outputs": [
    {
     "data": {
      "text/plain": [
       "3.41"
      ]
     },
     "execution_count": 88,
     "metadata": {},
     "output_type": "execute_result"
    }
   ],
   "source": [
    "perimeter( [ [0, 0], [0, 1], [1, 0] ] ) \n",
    "#➞ 3.42"
   ]
  },
  {
   "cell_type": "code",
   "execution_count": 89,
   "id": "2eb743fc",
   "metadata": {},
   "outputs": [
    {
     "data": {
      "text/plain": [
       "68.28"
      ]
     },
     "execution_count": 89,
     "metadata": {},
     "output_type": "execute_result"
    }
   ],
   "source": [
    "perimeter( [ [-10, -10], [10, 10 ], [-10, 10] ] ) \n",
    "#➞ 68.28"
   ]
  },
  {
   "cell_type": "code",
   "execution_count": null,
   "id": "74d9c718",
   "metadata": {},
   "outputs": [],
   "source": [
    "'''\n",
    "3. A city skyline can be represented as a 2-D list with 1s representing buildings. \n",
    "In the example below, the height of the tallest building is 4 (second-most right column).\n",
    "\n",
    "[[0, 0, 0, 0, 0, 0],\n",
    "[0, 0, 0, 0, 1, 0],\n",
    "[0, 0, 1, 0, 1, 0],\n",
    "[0, 1, 1, 1, 1, 0],\n",
    "[1, 1, 1, 1, 1, 1]]\n",
    "\n",
    "Create a function that takes a skyline (2-D list of 0's and 1's) \n",
    "and returns the height of the tallest skyscraper.\n",
    "\n",
    "Examples\n",
    "\n",
    "tallest_skyscraper([\n",
    "  [0, 0, 0, 0],\n",
    "  [0, 1, 0, 0],\n",
    "  [0, 1, 1, 0],\n",
    "  [1, 1, 1, 1]\n",
    "]) ➞ 3\n",
    "\n",
    "tallest_skyscraper([\n",
    "  [0, 1, 0, 0],\n",
    "  [0, 1, 0, 0],\n",
    "  [0, 1, 1, 0],\n",
    "  [1, 1, 1, 1]\n",
    "]) ➞ 4\n",
    "\n",
    "tallest_skyscraper([\n",
    "  [0, 0, 0, 0],\n",
    "  [0, 0, 0, 0],\n",
    "  [1, 1, 1, 0],\n",
    "  [1, 1, 1, 1]\n",
    "]) ➞ 2\n",
    "\n",
    "'''"
   ]
  },
  {
   "cell_type": "code",
   "execution_count": 90,
   "id": "7d850b32",
   "metadata": {},
   "outputs": [],
   "source": [
    "def tallest_skyscraper(*args):\n",
    "    x=args\n",
    "    k=0\n",
    "    n=True\n",
    "    f=[]\n",
    "    try:\n",
    "        while (n==True):\n",
    "            for i in range(len(x)):\n",
    "                result=0\n",
    "                for j in range(len(x[i])):\n",
    "                    v=len(x[i][j])\n",
    "                    result+=x[i][j][k]\n",
    "                f.append(result)\n",
    "                k=k+1\n",
    "            if k==v:\n",
    "                n=False\n",
    "                break\n",
    "            #print(f)\n",
    "        return max(f)\n",
    "            \n",
    "    except Exception as e:\n",
    "        print('There is some problem with this set of code',e)\n",
    "                \n",
    "        \n",
    "    "
   ]
  },
  {
   "cell_type": "code",
   "execution_count": 91,
   "id": "c9b331e5",
   "metadata": {},
   "outputs": [
    {
     "data": {
      "text/plain": [
       "3"
      ]
     },
     "execution_count": 91,
     "metadata": {},
     "output_type": "execute_result"
    }
   ],
   "source": [
    "tallest_skyscraper([\n",
    "  [0, 0, 0, 0],\n",
    "  [0, 1, 0, 0],\n",
    "  [0, 1, 1, 0],\n",
    "  [1, 1, 1, 1]\n",
    "]) \n",
    "#➞ 3"
   ]
  },
  {
   "cell_type": "code",
   "execution_count": 92,
   "id": "6a66b054",
   "metadata": {},
   "outputs": [
    {
     "data": {
      "text/plain": [
       "4"
      ]
     },
     "execution_count": 92,
     "metadata": {},
     "output_type": "execute_result"
    }
   ],
   "source": [
    "tallest_skyscraper([\n",
    "  [0, 1, 0, 0],\n",
    "  [0, 1, 0, 0],\n",
    "  [0, 1, 1, 0],\n",
    "  [1, 1, 1, 1]\n",
    "]) #➞ 4"
   ]
  },
  {
   "cell_type": "code",
   "execution_count": 93,
   "id": "9d364385",
   "metadata": {},
   "outputs": [
    {
     "data": {
      "text/plain": [
       "2"
      ]
     },
     "execution_count": 93,
     "metadata": {},
     "output_type": "execute_result"
    }
   ],
   "source": [
    "tallest_skyscraper([\n",
    "  [0, 0, 0, 0],\n",
    "  [0, 0, 0, 0],\n",
    "  [1, 1, 1, 0],\n",
    "  [1, 1, 1, 1]\n",
    "]) #➞ 2"
   ]
  },
  {
   "cell_type": "code",
   "execution_count": 133,
   "id": "c3232252",
   "metadata": {},
   "outputs": [
    {
     "data": {
      "text/plain": [
       "4"
      ]
     },
     "execution_count": 133,
     "metadata": {},
     "output_type": "execute_result"
    }
   ],
   "source": [
    "tallest_skyscraper([[0, 0, 0, 0, 0, 0],\n",
    "[0, 0, 0, 0, 1, 0],\n",
    "[0, 0, 1, 0, 1, 0],\n",
    "[0, 1, 1, 1, 1, 0],\n",
    "[1, 1, 1, 1, 1, 1]])"
   ]
  },
  {
   "cell_type": "code",
   "execution_count": null,
   "id": "01e3c775",
   "metadata": {},
   "outputs": [],
   "source": [
    "'''\n",
    "4. A financial institution provides professional services to banks and claims charges from the\n",
    "customers based on the number of man-days provided. Internally, it has set a scheme to motivate \n",
    "and reward staff to meet and exceed targeted billable utilization and revenues by paying a bonus \n",
    "for each day claimed from customers in excess of a threshold target.\n",
    "\n",
    "This quarterly scheme is calculated with a threshold target of 32 days \n",
    "per quarter, and the incentive payment for each billable day in excess of such threshold target \n",
    "is shown as follows:\n",
    "\n",
    "Days\t                             Bonus\n",
    "0 to 32 days\t                   Zero\n",
    "33 to 40 days\t         SGD$325 per billable day\n",
    "41 to 48 days\t         SGD$550 per billable day\n",
    "Greater than 48 days      SGD$600 per billable day\n",
    "\n",
    "Please note that incentive payment is calculated progressively. As an example, \n",
    "if an employee reached total billable days of 45 in a quarter, his/her incentive payment is \n",
    "computed as follows:\n",
    "\n",
    "32*0 + 8*325 + 5*550 = 5350\n",
    "\n",
    "Write a function to read the billable days of an employee and \n",
    "return the bonus he/she has obtained in that quarter.\n",
    "\n",
    "Examples\n",
    "\n",
    "bonus(15) ➞ 0\n",
    "\n",
    "bonus(37) ➞ 1625\n",
    "\n",
    "bonus(50) ➞ 8200\n",
    "\n",
    "'''"
   ]
  },
  {
   "cell_type": "code",
   "execution_count": 3,
   "id": "c3f58004",
   "metadata": {},
   "outputs": [],
   "source": [
    "def bonus(num):\n",
    "    bonus=0\n",
    "    num1=0\n",
    "    try:\n",
    "        if num <=32:\n",
    "            bonus=0\n",
    "            result=0\n",
    "        elif num>32 and num<=40:\n",
    "            bonus=325\n",
    "            num1=num-32\n",
    "            result=bonus*num1\n",
    "        elif num>40 and num<=48:\n",
    "            bonus=550\n",
    "            num1=num-40\n",
    "            result =8*325+num1*bonus\n",
    "        else:\n",
    "            bonus=600\n",
    "            num1=num-48\n",
    "            result = 8*325+8*550+num1*bonus\n",
    "        return result\n",
    "    except Exception as e:\n",
    "        print('There is some problem with this set of code',e)\n",
    "            "
   ]
  },
  {
   "cell_type": "code",
   "execution_count": 4,
   "id": "5e3aefc6",
   "metadata": {},
   "outputs": [
    {
     "data": {
      "text/plain": [
       "0"
      ]
     },
     "execution_count": 4,
     "metadata": {},
     "output_type": "execute_result"
    }
   ],
   "source": [
    "bonus(15) #➞ 0\n",
    "\n"
   ]
  },
  {
   "cell_type": "code",
   "execution_count": 5,
   "id": "3cafcfe4",
   "metadata": {},
   "outputs": [
    {
     "data": {
      "text/plain": [
       "1625"
      ]
     },
     "execution_count": 5,
     "metadata": {},
     "output_type": "execute_result"
    }
   ],
   "source": [
    "bonus(37) #➞ 1625\n",
    "\n"
   ]
  },
  {
   "cell_type": "code",
   "execution_count": 6,
   "id": "b8b4ea17",
   "metadata": {},
   "outputs": [
    {
     "data": {
      "text/plain": [
       "8200"
      ]
     },
     "execution_count": 6,
     "metadata": {},
     "output_type": "execute_result"
    }
   ],
   "source": [
    "bonus(50) #➞ 8200"
   ]
  },
  {
   "cell_type": "code",
   "execution_count": null,
   "id": "3b13fdea",
   "metadata": {},
   "outputs": [],
   "source": [
    "'''\n",
    "5. A number is said to be Disarium if the sum of its digits raised to\n",
    "their respective positions is the number itself.\n",
    "\n",
    "Create a function that determines whether a number is a Disarium or not.\n",
    "\n",
    "Examples\n",
    "\n",
    "is_disarium(75) ➞ False\n",
    "# 7^1 + 5^2 = 7 + 25 = 32\n",
    "\n",
    "is_disarium(135) ➞ True\n",
    "# 1^1 + 3^2 + 5^3 = 1 + 9 + 125 = 135\n",
    "\n",
    "is_disarium(544) ➞ False\n",
    "\n",
    "is_disarium(518) ➞ True\n",
    "\n",
    "is_disarium(466) ➞ False\n",
    "\n",
    "is_disarium(8) ➞ True\n",
    "\n",
    "'''"
   ]
  },
  {
   "cell_type": "code",
   "execution_count": 55,
   "id": "213207f9",
   "metadata": {},
   "outputs": [],
   "source": [
    "def is_disarium(num):\n",
    "    try:\n",
    "        result =0\n",
    "        #print('ksdhf')\n",
    "        if type(num) == int:\n",
    "            #print('jkshgkjsg')\n",
    "            n1=num\n",
    "            z=list(str(num))\n",
    "            #print(z)\n",
    "            for i in range(len(z)):\n",
    "                result+=int(z[i])**(i+1)\n",
    "            print(result)\n",
    "            if n1 == result:\n",
    "                return True\n",
    "            else:\n",
    "                return False\n",
    "    except Exception as e:\n",
    "        print('There is some problem with the code',e)\n",
    "                "
   ]
  },
  {
   "cell_type": "code",
   "execution_count": 56,
   "id": "b2c4bf66",
   "metadata": {},
   "outputs": [
    {
     "name": "stdout",
     "output_type": "stream",
     "text": [
      "85\n"
     ]
    },
    {
     "data": {
      "text/plain": [
       "False"
      ]
     },
     "execution_count": 56,
     "metadata": {},
     "output_type": "execute_result"
    }
   ],
   "source": [
    "is_disarium(544)\n",
    "    "
   ]
  },
  {
   "cell_type": "code",
   "execution_count": 57,
   "id": "2290066f",
   "metadata": {},
   "outputs": [
    {
     "name": "stdout",
     "output_type": "stream",
     "text": [
      "32\n"
     ]
    },
    {
     "data": {
      "text/plain": [
       "False"
      ]
     },
     "execution_count": 57,
     "metadata": {},
     "output_type": "execute_result"
    }
   ],
   "source": [
    "is_disarium(75)"
   ]
  },
  {
   "cell_type": "code",
   "execution_count": 58,
   "id": "ab861fab",
   "metadata": {},
   "outputs": [
    {
     "name": "stdout",
     "output_type": "stream",
     "text": [
      "135\n"
     ]
    },
    {
     "data": {
      "text/plain": [
       "True"
      ]
     },
     "execution_count": 58,
     "metadata": {},
     "output_type": "execute_result"
    }
   ],
   "source": [
    "is_disarium(135)\n"
   ]
  },
  {
   "cell_type": "code",
   "execution_count": 59,
   "id": "bb97dcc3",
   "metadata": {},
   "outputs": [
    {
     "name": "stdout",
     "output_type": "stream",
     "text": [
      "518\n"
     ]
    },
    {
     "data": {
      "text/plain": [
       "True"
      ]
     },
     "execution_count": 59,
     "metadata": {},
     "output_type": "execute_result"
    }
   ],
   "source": [
    "is_disarium(518)"
   ]
  },
  {
   "cell_type": "code",
   "execution_count": 60,
   "id": "1bd1dfcf",
   "metadata": {},
   "outputs": [
    {
     "name": "stdout",
     "output_type": "stream",
     "text": [
      "256\n"
     ]
    },
    {
     "data": {
      "text/plain": [
       "False"
      ]
     },
     "execution_count": 60,
     "metadata": {},
     "output_type": "execute_result"
    }
   ],
   "source": [
    "is_disarium(466)"
   ]
  },
  {
   "cell_type": "code",
   "execution_count": 61,
   "id": "9908e27b",
   "metadata": {},
   "outputs": [
    {
     "name": "stdout",
     "output_type": "stream",
     "text": [
      "8\n"
     ]
    },
    {
     "data": {
      "text/plain": [
       "True"
      ]
     },
     "execution_count": 61,
     "metadata": {},
     "output_type": "execute_result"
    }
   ],
   "source": [
    "is_disarium(8)"
   ]
  }
 ],
 "metadata": {
  "kernelspec": {
   "display_name": "Python 3 (ipykernel)",
   "language": "python",
   "name": "python3"
  },
  "language_info": {
   "codemirror_mode": {
    "name": "ipython",
    "version": 3
   },
   "file_extension": ".py",
   "mimetype": "text/x-python",
   "name": "python",
   "nbconvert_exporter": "python",
   "pygments_lexer": "ipython3",
   "version": "3.9.7"
  }
 },
 "nbformat": 4,
 "nbformat_minor": 5
}
