{
 "cells": [
  {
   "cell_type": "code",
   "execution_count": null,
   "id": "7ea22d12",
   "metadata": {},
   "outputs": [],
   "source": [
    "'''\n",
    "1. Write a function that takes a list of lists and returns the value of all of the\n",
    "symbols in it, where each symbol adds or takes something from the total\n",
    "score. Symbol values:\n",
    "# = 5\n",
    "O = 3\n",
    "X = 1\n",
    "! = -1\n",
    "!! = -3\n",
    "!!! = -5\n",
    "A list of lists containing 2 #s, a O, and a !!! would equal (0 + 5 + 5 + 3 - 5) 8.\n",
    "If the final score is negative, return 0 (e.g. 3 #s, 3 !!s, 2 !!!s and a X would be\n",
    "(0 + 5 + 5 + 5 - 3 - 3 - 3 - 5 - 5 + 1) -3, so return 0.\n",
    "'''"
   ]
  },
  {
   "cell_type": "code",
   "execution_count": 40,
   "id": "e836374d",
   "metadata": {},
   "outputs": [],
   "source": [
    "def check_score(args):\n",
    "    value=0;\n",
    "    d={'#':5,'O':3,'X':1,'!':-1,'!!':-3,'!!!':-5}\n",
    "    #print(args)\n",
    "    for i in range(len(args)):\n",
    "        #print(i)\n",
    "        if type(args[i])==list:\n",
    "            #print(args[i])\n",
    "            for j in range(len(args[i])):\n",
    "                #print(j)\n",
    "                #print(args[i][j])\n",
    "                if args[i][j] in d.keys():\n",
    "                    #print(d[args[i][j]])\n",
    "                    value+=d[args[i][j]]\n",
    "                else:\n",
    "                    value+=0\n",
    "        else:\n",
    "            print('skip the list')\n",
    "    if value  >0:\n",
    "        return value\n",
    "    else:\n",
    "        return 0"
   ]
  },
  {
   "cell_type": "code",
   "execution_count": 41,
   "id": "0f3e7a4a",
   "metadata": {},
   "outputs": [
    {
     "data": {
      "text/plain": [
       "2"
      ]
     },
     "execution_count": 41,
     "metadata": {},
     "output_type": "execute_result"
    }
   ],
   "source": [
    "check_score([['#','!'],['X','!!']])"
   ]
  },
  {
   "cell_type": "code",
   "execution_count": 42,
   "id": "2f28b2e2",
   "metadata": {},
   "outputs": [
    {
     "data": {
      "text/plain": [
       "0"
      ]
     },
     "execution_count": 42,
     "metadata": {},
     "output_type": "execute_result"
    }
   ],
   "source": [
    "check_score([['!!!','O','!'],['X','#','!!!'],['!!','X','O']])"
   ]
  },
  {
   "cell_type": "code",
   "execution_count": null,
   "id": "b0211900",
   "metadata": {},
   "outputs": [],
   "source": [
    "'''\n",
    "Create a function that takes a variable number of arguments, each\n",
    "argument representing the number of items in a group, and returns the\n",
    "number of permutations (combinations) of items that you could get by taking\n",
    "one item from each group.\n",
    "Examples\n",
    "combinations(2, 3) ➞ 6\n",
    "combinations(3, 7, 4) ➞ 84\n",
    "combinations(2, 3, 4, 5) ➞ 120\n",
    "'''"
   ]
  },
  {
   "cell_type": "code",
   "execution_count": 55,
   "id": "2769bc5e",
   "metadata": {},
   "outputs": [],
   "source": [
    "def combinations(*args):\n",
    "    print(args)\n",
    "    result =1\n",
    "    for i in range(len(args)):\n",
    "        result*=args[i]\n",
    "    return result\n"
   ]
  },
  {
   "cell_type": "code",
   "execution_count": 54,
   "id": "000f80ec",
   "metadata": {},
   "outputs": [
    {
     "name": "stdout",
     "output_type": "stream",
     "text": [
      "(2, 3)\n"
     ]
    },
    {
     "data": {
      "text/plain": [
       "6"
      ]
     },
     "execution_count": 54,
     "metadata": {},
     "output_type": "execute_result"
    }
   ],
   "source": [
    "combinations(2, 3)"
   ]
  },
  {
   "cell_type": "code",
   "execution_count": 51,
   "id": "259854c7",
   "metadata": {},
   "outputs": [
    {
     "name": "stdout",
     "output_type": "stream",
     "text": [
      "(3, 7, 4)\n"
     ]
    },
    {
     "data": {
      "text/plain": [
       "84"
      ]
     },
     "execution_count": 51,
     "metadata": {},
     "output_type": "execute_result"
    }
   ],
   "source": [
    "combinations(3, 7, 4)"
   ]
  },
  {
   "cell_type": "code",
   "execution_count": 52,
   "id": "69bb283d",
   "metadata": {},
   "outputs": [
    {
     "name": "stdout",
     "output_type": "stream",
     "text": [
      "(2, 3, 4, 5)\n"
     ]
    },
    {
     "data": {
      "text/plain": [
       "120"
      ]
     },
     "execution_count": 52,
     "metadata": {},
     "output_type": "execute_result"
    }
   ],
   "source": [
    "combinations(2, 3, 4, 5)"
   ]
  },
  {
   "cell_type": "code",
   "execution_count": null,
   "id": "3984aa4a",
   "metadata": {},
   "outputs": [],
   "source": [
    "'''3. Create a function that takes a string as an argument and returns the Morse code equivalent.\n",
    "\n",
    "Examples\n",
    "\n",
    "encode_morse(\"EDABBIT CHALLENGE\") ➞ \". -.. .- -... -... .. -   -.-. .... .- .-.. .-.. . -. --. .\"\n",
    "                                    ' \n",
    "encode_morse(\"HELP ME !\") ➞ \".... . .-.. .--.   -- .   -.-.--\"\n",
    "                              ....  .  .-..  .--.  --  .  -.-.-- \n"
   ]
  },
  {
   "cell_type": "code",
   "execution_count": 158,
   "id": "d4bdfae1",
   "metadata": {},
   "outputs": [
    {
     "name": "stdout",
     "output_type": "stream",
     "text": [
      "Enter any inputjhkjh\n"
     ]
    },
    {
     "data": {
      "text/plain": [
       "'.--- .... -.- .--- .... '"
      ]
     },
     "execution_count": 158,
     "metadata": {},
     "output_type": "execute_result"
    }
   ],
   "source": [
    "char_to_dots ={\n",
    "        'A': '.-', 'B': '-...', 'C': '-.-.', 'D': '-..', 'E': '.', 'F': '..-.',\n",
    "        'G': '--.', 'H': '....', 'I': '..', 'J': '.---', 'K': '-.-', 'L': '.-..',\n",
    "        'M': '--', 'N': '-.', 'O': '---', 'P': '.--.', 'Q': '--.-', 'R': '.-.',\n",
    "        'S': '...', 'T': '-', 'U': '..-', 'V': '...-', 'W': '.--', 'X': '-..-',\n",
    "        'Y': '-.--', 'Z': '--..', ' ': ' ', '0': '-----',\n",
    "        '1': '.----', '2': '..---', '3': '...--', '4': '....-', '5': '.....',\n",
    "        '6': '-....', '7': '--...', '8': '---..', '9': '----.',\n",
    "        '&': '.-...', \"'\": '.----.', '@': '.--.-.', ')': '-.--.-', '(': '-.--.',\n",
    "        ':': '---...', ',': '--..--', '=': '-...-', '!': '-.-.--', '.': '.-.-.-',\n",
    "        '-': '-....-', '+': '.-.-.', '\"': '.-..-.', '?': '..--..', '/': '-..-.'}\n",
    "def encode_morse(string):\n",
    "    if type(string)==str:\n",
    "        a1=string.upper()\n",
    "        #print(a1)\n",
    "        a=a1.split()\n",
    "        #print(a)\n",
    "        c=\"\"\n",
    "        for i in range(len(a)):\n",
    "            #print(a[i])\n",
    "            if len(a[i])>1:\n",
    "                for j in range(len(a[i])):\n",
    "                    #print(a[i][j])\n",
    "                    if (a[i][j]) in char_to_dots.keys():\n",
    "                        #print(char_to_dots[a[i][j]])\n",
    "                        c+=char_to_dots[a[i][j]]\n",
    "                        c+=' '\n",
    "            \n",
    "            else:\n",
    "                if (a[i]) in char_to_dots.keys():\n",
    "                    #print(a[i])\n",
    "                    #print(char_to_dots[a[i]])\n",
    "                    c+=char_to_dots[a[i]]\n",
    "                    c+=' '\n",
    "            #c+=' '\n",
    "    else:\n",
    "        print('Given input is not of string format')\n",
    "    return c\n",
    "encode_morse(input('Enter any input'))"
   ]
  },
  {
   "cell_type": "code",
   "execution_count": null,
   "id": "995ba512",
   "metadata": {},
   "outputs": [],
   "source": [
    "'''\n",
    "4. Write a function that takes a number and returns True if its a prime; False\n",
    "otherwise. The number can be 2^64-1 (2 to the power of 63, not XOR). With\n",
    "the standard technique it would be O(2^64-1), which is much too large for the\n",
    "10 second time limit.\n",
    "'''"
   ]
  },
  {
   "cell_type": "code",
   "execution_count": 111,
   "id": "c224132d",
   "metadata": {},
   "outputs": [],
   "source": [
    "def prime(num):\n",
    "    try:\n",
    "        if num%2==0:\n",
    "            return False\n",
    "        else:\n",
    "            return True\n",
    "    except Exception as e:\n",
    "        print('The issue with this set of code is::',e)"
   ]
  },
  {
   "cell_type": "code",
   "execution_count": 112,
   "id": "25405210",
   "metadata": {},
   "outputs": [
    {
     "data": {
      "text/plain": [
       "True"
      ]
     },
     "execution_count": 112,
     "metadata": {},
     "output_type": "execute_result"
    }
   ],
   "source": [
    "prime(7) \n"
   ]
  },
  {
   "cell_type": "code",
   "execution_count": 132,
   "id": "726c7b33",
   "metadata": {},
   "outputs": [
    {
     "data": {
      "text/plain": [
       "True"
      ]
     },
     "execution_count": 132,
     "metadata": {},
     "output_type": "execute_result"
    }
   ],
   "source": [
    "\n",
    "prime(56963)\n",
    "\n"
   ]
  },
  {
   "cell_type": "code",
   "execution_count": 133,
   "id": "02752fd1",
   "metadata": {},
   "outputs": [
    {
     "data": {
      "text/plain": [
       "False"
      ]
     },
     "execution_count": 133,
     "metadata": {},
     "output_type": "execute_result"
    }
   ],
   "source": [
    "prime(5151512515524)\n"
   ]
  },
  {
   "cell_type": "code",
   "execution_count": null,
   "id": "7ebd9b63",
   "metadata": {},
   "outputs": [],
   "source": [
    "'''\n",
    "5. Create a function that converts a word to a bitstring and then to a boolean\n",
    "list based on the following criteria:\n",
    "1. Locate the position of the letter in the English alphabet (from 1 to 26).\n",
    "2. Odd positions will be represented as 1 and 0 otherwise.\n",
    "3. Convert the represented positions to boolean values, 1 for True and 0\n",
    "for False.\n",
    "4. Store the conversions into an array.\n",
    "'''"
   ]
  },
  {
   "cell_type": "code",
   "execution_count": 154,
   "id": "4c184ade",
   "metadata": {},
   "outputs": [],
   "source": [
    "dict1={'a':'1','b':'2','c':'3','d':'4','e':'5','f':'6',\n",
    "       'g':'7','h':'8','i':'9','j':'10','k':'11','l':'12','m':'13','n':'14',\n",
    "       'o':'15','p':'16','q':'17','r':'18','s':'19','t':'20','u':'21','v':'22','w':'23',\n",
    "       'x':'24','y':'25','z':'26'}\n",
    "def to_boolean_list(string):\n",
    "    s1=string.lower()\n",
    "    print(s1)\n",
    "    #print(s)\n",
    "    s=list(s1)\n",
    "    result=[]\n",
    "    try:\n",
    "        for i in range(len(s)):\n",
    "            print(s[i])\n",
    "            if s[i] in dict1.keys():\n",
    "                print(\"{} is {} th alphabet\".format(s[i],dict1[s[i]]))\n",
    "                if int(dict1[s[i]])%2==0:\n",
    "                    result.append(0)\n",
    "                else:\n",
    "                    result.append(1)\n",
    "                \n",
    "        for j in range(len(result)):\n",
    "            if result[j]==1:\n",
    "                result[j]='True'\n",
    "            else:\n",
    "                result[j]='False'\n",
    "        return(result)\n",
    "    except Exception as e:\n",
    "        print('The issue with this set of code is::',e)\n",
    "#to_boolean_list(input('Enter any string of your choice'))  "
   ]
  },
  {
   "cell_type": "code",
   "execution_count": 155,
   "id": "63aab204",
   "metadata": {},
   "outputs": [
    {
     "name": "stdout",
     "output_type": "stream",
     "text": [
      "deep\n",
      "d\n",
      "d is 4 th alphabet\n",
      "e\n",
      "e is 5 th alphabet\n",
      "e\n",
      "e is 5 th alphabet\n",
      "p\n",
      "p is 16 th alphabet\n"
     ]
    },
    {
     "data": {
      "text/plain": [
       "['False', 'True', 'True', 'False']"
      ]
     },
     "execution_count": 155,
     "metadata": {},
     "output_type": "execute_result"
    }
   ],
   "source": [
    "to_boolean_list(\"deep\")"
   ]
  },
  {
   "cell_type": "code",
   "execution_count": 156,
   "id": "69c4a330",
   "metadata": {},
   "outputs": [
    {
     "name": "stdout",
     "output_type": "stream",
     "text": [
      "loves\n",
      "l\n",
      "l is 12 th alphabet\n",
      "o\n",
      "o is 15 th alphabet\n",
      "v\n",
      "v is 22 th alphabet\n",
      "e\n",
      "e is 5 th alphabet\n",
      "s\n",
      "s is 19 th alphabet\n"
     ]
    },
    {
     "data": {
      "text/plain": [
       "['False', 'True', 'False', 'True', 'True']"
      ]
     },
     "execution_count": 156,
     "metadata": {},
     "output_type": "execute_result"
    }
   ],
   "source": [
    "to_boolean_list(\"loves\")"
   ]
  },
  {
   "cell_type": "code",
   "execution_count": 157,
   "id": "d9e398c4",
   "metadata": {},
   "outputs": [
    {
     "name": "stdout",
     "output_type": "stream",
     "text": [
      "tesh\n",
      "t\n",
      "t is 20 th alphabet\n",
      "e\n",
      "e is 5 th alphabet\n",
      "s\n",
      "s is 19 th alphabet\n",
      "h\n",
      "h is 8 th alphabet\n"
     ]
    },
    {
     "data": {
      "text/plain": [
       "['False', 'True', 'True', 'False']"
      ]
     },
     "execution_count": 157,
     "metadata": {},
     "output_type": "execute_result"
    }
   ],
   "source": [
    "to_boolean_list(\"tesh\")"
   ]
  },
  {
   "cell_type": "code",
   "execution_count": null,
   "id": "914a9bcf",
   "metadata": {},
   "outputs": [],
   "source": []
  }
 ],
 "metadata": {
  "kernelspec": {
   "display_name": "Python 3 (ipykernel)",
   "language": "python",
   "name": "python3"
  },
  "language_info": {
   "codemirror_mode": {
    "name": "ipython",
    "version": 3
   },
   "file_extension": ".py",
   "mimetype": "text/x-python",
   "name": "python",
   "nbconvert_exporter": "python",
   "pygments_lexer": "ipython3",
   "version": "3.9.7"
  }
 },
 "nbformat": 4,
 "nbformat_minor": 5
}
